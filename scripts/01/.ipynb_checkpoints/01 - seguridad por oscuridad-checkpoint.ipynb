{
 "cells": [
  {
   "cell_type": "markdown",
   "id": "atomic-legislation",
   "metadata": {},
   "source": [
    "# Seguridad por oscuridad: introducción al criptoanális"
   ]
  },
  {
   "cell_type": "markdown",
   "id": "mechanical-marina",
   "metadata": {},
   "source": [
    "Varias editoriales de todo el mundo han publicado una línea de cuentos infantiles. Cuando acercas una figura al altavoz, suena el cuento.\n",
    "\n",
    "El cuento no está en la figura: eso provocaría que las figuras sea demasiado caras. Todos los cuentos están en la memoria del altavoz, mientras que las figurast tienen etiquetas NFC o RFID pasivas con un identificador.\n",
    "\n",
    "Para evitar que se pueda acceder a los cuentos sin tener la figura, los archivos de sonido están cifrados.\n",
    "\n",
    "![](images/caperu.jpg)"
   ]
  },
  {
   "cell_type": "code",
   "execution_count": 2,
   "id": "severe-quantity",
   "metadata": {},
   "outputs": [],
   "source": [
    "import os\n",
    "\n",
    "class HexViewer():\n",
    "    def __init__(self, filename, bs=16, count=32):\n",
    "        self.filename = filename\n",
    "        self.bs = bs\n",
    "        self.count = count\n",
    "    def show_block(self):\n",
    "        assert self.filaname\n",
    "        with open(self.filename, \"rb\") as file:\n",
    "            try:\n",
    "                file.seek(self.offset.get(), os.SEEK_SET)\n",
    "                block = file.read(self.bs * self.count)\n",
    "            except ValueError: # Empty offsetSpinbox\n",
    "                return\n",
    "        rows = [block[i:i + self.bs]\n",
    "                for i in range(0, len(block), self.bs)]\n",
    "        for row in rows:\n",
    "            self.show_bytes(row)\n",
    "            #self.show_line(row)\n",
    "    def show_bytes(self, row):\n",
    "        for byte in row:\n",
    "            tags = ()\n",
    "            if byte in b\"\\t\\n\\r\\v\\f\":\n",
    "                tags = (\"hexspace\", \"graybg\")\n",
    "            elif 0x20 < byte < 0x7F:\n",
    "                tags = (\"ascii\",)\n",
    "            print(\"{:02X}\".format(byte))\n",
    "        if len(row) < self.bs:\n",
    "            print(\" \" * (self.bs - len(row)) * 3)"
   ]
  },
  {
   "cell_type": "code",
   "execution_count": null,
   "id": "young-peninsula",
   "metadata": {},
   "outputs": [],
   "source": []
  }
 ],
 "metadata": {
  "kernelspec": {
   "display_name": "Python 3",
   "language": "python",
   "name": "python3"
  },
  "language_info": {
   "codemirror_mode": {
    "name": "ipython",
    "version": 3
   },
   "file_extension": ".py",
   "mimetype": "text/x-python",
   "name": "python",
   "nbconvert_exporter": "python",
   "pygments_lexer": "ipython3",
   "version": "3.8.2"
  }
 },
 "nbformat": 4,
 "nbformat_minor": 5
}
