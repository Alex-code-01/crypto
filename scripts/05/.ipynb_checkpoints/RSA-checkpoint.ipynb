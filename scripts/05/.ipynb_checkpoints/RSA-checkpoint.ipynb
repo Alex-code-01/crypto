{
 "cells": [
  {
   "cell_type": "code",
   "execution_count": null,
   "id": "appreciated-residence",
   "metadata": {},
   "outputs": [],
   "source": [
    "import random"
   ]
  },
  {
   "cell_type": "markdown",
   "id": "horizontal-public",
   "metadata": {},
   "source": [
    "# Algoritmos de Euclides"
   ]
  },
  {
   "cell_type": "markdown",
   "id": "modern-baseline",
   "metadata": {},
   "source": [
    "Algoritmo de Euclides para determinar el máximo común divisor (gcd) de dos enteros a yb"
   ]
  },
  {
   "cell_type": "code",
   "execution_count": null,
   "id": "outer-parish",
   "metadata": {},
   "outputs": [],
   "source": [
    "def gcd(a, b):\n",
    "    while b != 0:\n",
    "        a, b = b, a % b\n",
    "    return a\n",
    "\n",
    "print('gcd(2, 3) = ', gcd(2, 3))\n",
    "print('gcd(20, 30) = ', gcd(20, 30))\n",
    "print('gcd(50720, 48184) = ', gcd(50720, 48184))\n"
   ]
  },
  {
   "cell_type": "markdown",
   "id": "multiple-triangle",
   "metadata": {},
   "source": [
    "Algoritmo generalizado de Euclides para encontrar el inverso multiplicativos de un número en un anillo cíclico $\\mathbb{Z}_{\\phi}$"
   ]
  },
  {
   "cell_type": "code",
   "execution_count": null,
   "id": "bright-episode",
   "metadata": {},
   "outputs": [],
   "source": [
    "def multiplicative_inverse(e, phi):\n",
    "    d = 0\n",
    "    x1 = 0\n",
    "    x2 = 1\n",
    "    y1 = 1\n",
    "    temp_phi = phi\n",
    "    \n",
    "    while e > 0:\n",
    "        temp1 = temp_phi // e\n",
    "        temp2 = temp_phi - temp1 * e\n",
    "        temp_phi = e\n",
    "        e = temp2\n",
    "        \n",
    "        x = x2 - temp1 * x1\n",
    "        y = d - temp1 * y1\n",
    "        \n",
    "        x2 = x1\n",
    "        x1 = x\n",
    "        d = y1\n",
    "        y1 = y\n",
    "\n",
    "    if temp_phi == 1:\n",
    "        return d + phi\n",
    "    # no inverse: return None\n",
    "    return None\n",
    "\n",
    "print('3^{-1} mod 10 = ', multiplicative_inverse(3, 10))\n",
    "print('2^{-1} mod 10 = ', multiplicative_inverse(2, 10))\n",
    "print('25^{-1} mod 119 = ', multiplicative_inverse(25, 119))"
   ]
  },
  {
   "cell_type": "code",
   "execution_count": null,
   "id": "least-eligibility",
   "metadata": {},
   "outputs": [],
   "source": [
    "def is_prime(num):\n",
    "    if num == 2:\n",
    "        return True\n",
    "    if num < 2 or num % 2 == 0:\n",
    "        return False\n",
    "    for n in range(3, int(num**0.5)+2, 2):\n",
    "        if num % n == 0:\n",
    "            return False\n",
    "    return True\n",
    "\n",
    "for i in [2, 5, 19, 25, 222, 314, 317]:\n",
    "    print(f'{i}: ', is_prime(i))"
   ]
  },
  {
   "cell_type": "markdown",
   "id": "fifty-deadline",
   "metadata": {},
   "source": [
    "# RSA\n",
    "\n",
    "RSA son unas pocas funciones sencillas:\n",
    "\n",
    "- Generación de claves\n",
    "- Cifrado y descifrado son iguals (y simplemente es una potencia)"
   ]
  },
  {
   "cell_type": "code",
   "execution_count": null,
   "id": "ranging-portable",
   "metadata": {},
   "outputs": [],
   "source": [
    "def generate_keypair(p, q):\n",
    "    if not (is_prime(p) and is_prime(q)):\n",
    "        raise ValueError('Both numbers must be prime.')\n",
    "    elif p == q:\n",
    "        raise ValueError('p and q cannot be equal')\n",
    "    #n = pq\n",
    "    n = p * q\n",
    "\n",
    "    #Phi is the totient of n\n",
    "    phi = (p - 1) * (q - 1)\n",
    "\n",
    "    # Choose an integer e such that e and phi(n) are coprime\n",
    "    e = random.randrange(1, phi)\n",
    "\n",
    "    # Use Euclid's Algorithm to verify that e and phi(n) are coprime\n",
    "    g = gcd(e, phi)\n",
    "    while g != 1:\n",
    "        e = random.randrange(1, phi)\n",
    "        g = gcd(e, phi)\n",
    "\n",
    "    #Use Extended Euclid's Algorithm to generate the private key\n",
    "    d = multiplicative_inverse(e, phi)\n",
    "    \n",
    "    #Return public and private keypair\n",
    "    #Public key is (e, n) and private key is (d, n)\n",
    "    return ((e, n), (d, n))\n",
    "\n",
    "def encrypt(pk, number):\n",
    "    # Unpack the key into it's components\n",
    "    key, n = pk\n",
    "    return (number ** key) % n\n",
    "\n",
    "decrypt = encrypt"
   ]
  },
  {
   "cell_type": "code",
   "execution_count": null,
   "id": "electoral-hypothetical",
   "metadata": {},
   "outputs": [],
   "source": [
    "pk, sk = generate_keypair(17, 23)\n",
    "print(f'Publickey (e, n): {pk} Private-key (d, n): {sk}')"
   ]
  },
  {
   "cell_type": "markdown",
   "id": "backed-burns",
   "metadata": {},
   "source": [
    "Fíjate: si generamos otro par de claves, aunque usemos los mismos primos, obtendremos unas claves diferentes. Eso es porque el parámetro $e$ se escoge al azar"
   ]
  },
  {
   "cell_type": "code",
   "execution_count": null,
   "id": "dressed-chaos",
   "metadata": {},
   "outputs": [],
   "source": [
    "pk, sk = generate_keypair(17, 23)\n",
    "print(f'Publickey: {pk} Private-key: {sk}')"
   ]
  },
  {
   "cell_type": "markdown",
   "id": "fabulous-strap",
   "metadata": {},
   "source": [
    "Vamos a intentar cifrar un texto sencillo:"
   ]
  },
  {
   "cell_type": "code",
   "execution_count": null,
   "id": "centered-miracle",
   "metadata": {},
   "outputs": [],
   "source": [
    "print(encrypt(pk, 'hola'))"
   ]
  },
  {
   "cell_type": "markdown",
   "id": "described-tumor",
   "metadata": {},
   "source": [
    "No podemos: RSA solo puede cifrar enteros. Una posibilidad es codificar el mensaje como un conjunto de enteros"
   ]
  },
  {
   "cell_type": "code",
   "execution_count": null,
   "id": "elegant-database",
   "metadata": {},
   "outputs": [],
   "source": [
    "print([encrypt(pk, ord(c)) for c in 'hola'])"
   ]
  },
  {
   "cell_type": "markdown",
   "id": "brave-thesis",
   "metadata": {},
   "source": [
    "¿Qué pasa si intentamos cifrar varias veces lo mismo?"
   ]
  },
  {
   "cell_type": "code",
   "execution_count": null,
   "id": "electric-victorian",
   "metadata": {},
   "outputs": [],
   "source": [
    "print([encrypt(pk, ord(c)) for c in 'aaaa'])"
   ]
  },
  {
   "cell_type": "markdown",
   "id": "focused-hygiene",
   "metadata": {},
   "source": [
    "# (semi) Homorfismo\n",
    "\n",
    "RSA es semihomomórfico con la multiplicación: se pueden hacer cálculos con los números cifrados, aunque no sepas lo que son ni qué resultado tienes. Al descifrar, el resultado es correcto.\n",
    "\n",
    "Por ejemplo, vamos a multiplicar los mensajes cifrados c1 y c2, que son los cifrados de 5 y 2 respectivamente"
   ]
  },
  {
   "cell_type": "code",
   "execution_count": null,
   "id": "german-disabled",
   "metadata": {},
   "outputs": [],
   "source": [
    "m1 = 5\n",
    "c1 = encrypt(pk, m1)\n",
    "print(f'encrypt(pk, {m1}) = {c1}')\n",
    "print(f'decrypt(sk, {c1}) = {decrypt(sk, c1)}')\n"
   ]
  },
  {
   "cell_type": "code",
   "execution_count": null,
   "id": "continued-excitement",
   "metadata": {},
   "outputs": [],
   "source": [
    "m2 = 2\n",
    "c2 = encrypt(pk, m2)\n",
    "print(f'encrypt(pk, {m2}) = {c2}')\n",
    "print(f'decrypt(sk, {c2}) = {decrypt(sk, c2)}')"
   ]
  },
  {
   "cell_type": "code",
   "execution_count": null,
   "id": "shaped-merchant",
   "metadata": {},
   "outputs": [],
   "source": [
    "cm = c1 * c2\n",
    "print(f\"c1 = {c1}; c2 = {c2}; cm = {cm}\")"
   ]
  },
  {
   "cell_type": "markdown",
   "id": "universal-hopkins",
   "metadata": {},
   "source": [
    "Un atacante no sabe cuánto vale c1 ni c2, ni sabe qué valor tiene cm, pero sabe que, sea lo que sea, ha multiplicado c1 y c2 y cuando se descifre el resultado va a ser correcto:"
   ]
  },
  {
   "cell_type": "code",
   "execution_count": null,
   "id": "overhead-machinery",
   "metadata": {},
   "outputs": [],
   "source": [
    "print(f'decrypt(sk, c1 * c2) = m1 * m2 = {m1} * {m2} = {decrypt(sk, cm)}')"
   ]
  },
  {
   "cell_type": "markdown",
   "id": "convenient-month",
   "metadata": {},
   "source": [
    "# PyCryptoDome\n",
    "\n",
    "La función de arriba solo sirve para ver cómo funciona RSA a alto nivel. Veamos ahora cómo de grandes son los números involucrados en"
   ]
  },
  {
   "cell_type": "code",
   "execution_count": null,
   "id": "assisted-operation",
   "metadata": {},
   "outputs": [],
   "source": [
    "from Crypto.PublicKey import RSA\n",
    "key = RSA.generate(2048)\n",
    "key"
   ]
  },
  {
   "cell_type": "markdown",
   "id": "noble-glass",
   "metadata": {},
   "source": [
    "# Ejercicios\n",
    "\n",
    "Hemos visto cómo crear claves con PyCryptoDrome, pero... \n",
    "\n",
    "- ¿Puedes cifrar algo con PyCryptoDrome usando RSA?\n",
    "- ¿Y un mensaje más largo?\n",
    "- ¿Cómo se firma?"
   ]
  },
  {
   "cell_type": "code",
   "execution_count": null,
   "id": "basic-spirituality",
   "metadata": {},
   "outputs": [],
   "source": []
  }
 ],
 "metadata": {
  "kernelspec": {
   "display_name": "Python 3",
   "language": "python",
   "name": "python3"
  },
  "language_info": {
   "codemirror_mode": {
    "name": "ipython",
    "version": 3
   },
   "file_extension": ".py",
   "mimetype": "text/x-python",
   "name": "python",
   "nbconvert_exporter": "python",
   "pygments_lexer": "ipython3",
   "version": "3.8.2"
  }
 },
 "nbformat": 4,
 "nbformat_minor": 5
}
