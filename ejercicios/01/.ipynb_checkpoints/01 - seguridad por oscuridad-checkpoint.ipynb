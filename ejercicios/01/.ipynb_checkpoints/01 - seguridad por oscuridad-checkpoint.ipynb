{
 "cells": [
  {
   "cell_type": "markdown",
   "id": "scenic-lounge",
   "metadata": {},
   "source": [
    "# Seguridad por oscuridad: introducción al criptoanális"
   ]
  },
  {
   "cell_type": "markdown",
   "id": "sapphire-dublin",
   "metadata": {},
   "source": [
    "Varias editoriales de todo el mundo han publicado una línea de cuentos infantiles. El producto de ambas es similar: un altavoz con figuras coleccionables, el cuento suena cuando se acerca la figura al altavoz.\n",
    "\n",
    "En algunos de estos productos, los cuentos se guardan en una tarjeta SD en el altavoz. Una de ellas cifra esos cuentos para que no puedan escucharse ni cambiarse sin las figuras...\n",
    "\n",
    "...pero han confiado en la seguridad por oscuridad\n",
    "\n",
    "(otros productos no ha protegido los cuentos y ha confiado en que un particular no comprará etiquetas RFID, que son la que llevan las figuras)\n",
    "\n",
    "El cuento no está en la figura: eso provocaría que las figuras sea demasiado caras. Todos los cuentos están en la memoria del altavoz, mientras que las figurat tienen etiquetas NFC o RFID pasivas con un identificador.\n",
    "\n",
    "Para evitar que se pueda acceder a los cuentos sin comprar la figura, los archivos de sonido están cifrados.\n",
    "\n",
    "![](images/caperu.jpg)"
   ]
  },
  {
   "cell_type": "markdown",
   "id": "interpreted-holocaust",
   "metadata": {},
   "source": [
    "Vamos a analizar el sistema de cifrado que se utiliza en los audiocuentos.\n",
    "\n",
    "La clase HexView que está a continuación es simplemente una forma sencilla de mostrar el contenido de un archivo en hexadecimal en estos notebook. Podrías también ejecutar un hexdump en línea de comandos."
   ]
  },
  {
   "cell_type": "code",
   "execution_count": null,
   "id": "spoken-tiffany",
   "metadata": {},
   "outputs": [],
   "source": [
    "import os\n",
    "\n",
    "class HexViewer():\n",
    "    def __init__(self, filename, bs=16, count=32):\n",
    "        self.filename = filename\n",
    "        self.bs = bs\n",
    "        self.count = count\n",
    "    def get_blocks(self, offset=0):\n",
    "        assert self.filename\n",
    "        with open(self.filename, \"rb\") as file:\n",
    "            try:\n",
    "                file.seek(offset, os.SEEK_SET)\n",
    "                block = file.read(self.bs * self.count)\n",
    "            except ValueError: # Empty offsetSpinbox\n",
    "                return\n",
    "        rows = [block[i:i + self.bs]\n",
    "                for i in range(0, len(block), self.bs)]\n",
    "        for row in rows:\n",
    "            yield '{} - {}'.format(self.get_bytes(row), self.get_ascii(row))\n",
    "    def get_bytes(self, row):\n",
    "        output = \" \".join(map(lambda b:\"{:02X}\".format(b), row))\n",
    "        if len(row) < self.bs:\n",
    "            output += \" \" * (self.bs - len(row)) * 3\n",
    "        return output\n",
    "    def get_ascii(self, row, not_printable='.'):\n",
    "        output = []\n",
    "        for char in row.decode('ascii', errors=\"replace\"):\n",
    "            if char in \"\\u2028\\u2029\\t\\n\\r\\v\\f\\uFFFD\":\n",
    "                char = not_printable\n",
    "            elif not 0x20 <= ord(char) <= 0xFF:\n",
    "                char = not_printable\n",
    "            output.append(char)\n",
    "        return \"\".join(output)\n",
    "    def print_blocks(self, offset=0):\n",
    "        print('\\n'.join(self.get_blocks(offset)))\n",
    "        "
   ]
  },
  {
   "cell_type": "markdown",
   "id": "decreased-horror",
   "metadata": {},
   "source": [
    "Bien, en este mismo directorio hay un archivo `test.mp3` de prueba que hemos descargado de: <https://file-examples.com/index.php/sample-audio-files/sample-mp3-download/>\n",
    "\n",
    "Que el archivo cifrado es un MP3 y no otro formato es una suposición razonable. Podría ser también WAB, OGG, o algún otro formato de audio. En este caso son MP3. Si no lo hubiesen sido, un adversario tardaría un poco pero no demasiado más: la idea es la misma.\n",
    "\n",
    "Vamos a ver los primeros bytes del archivo para conocer la pinta que tiene uno de estos archivos:"
   ]
  },
  {
   "cell_type": "code",
   "execution_count": null,
   "id": "fallen-traveler",
   "metadata": {},
   "outputs": [],
   "source": [
    "HexViewer('test.mp3').print_blocks()"
   ]
  },
  {
   "cell_type": "markdown",
   "id": "protecting-appliance",
   "metadata": {},
   "source": [
    "Observa:\n",
    "\n",
    "- El inicio de un archivo es conocido: `ID3`. Es muy común que los archivos empiecen con unas pocos letras que los identifican: DOCX, JPG, ZIP... tienen todos una cabera inicial que los identifica.\n",
    "- Los archivos MP3 como este en ocasiones tienen \"secciones de padding\", que son secciones con muchos ceros"
   ]
  },
  {
   "cell_type": "markdown",
   "id": "fewer-reminder",
   "metadata": {},
   "source": [
    "Veamos ahora el archivo `01.enc`. Este archivo está cifrado utilizando el mismo método que los audiocuentos que se pueden encontrar en el quiosco.\n",
    "\n",
    "Observa:\n",
    "\n",
    "- El archivo no empieza con lo que se espera de un MP3\n",
    "- En las partes que un MP3 tendría ceros, aquí aparece otra cadena"
   ]
  },
  {
   "cell_type": "code",
   "execution_count": null,
   "id": "other-landing",
   "metadata": {},
   "outputs": [],
   "source": [
    "HexViewer('01.enc').print_blocks()"
   ]
  },
  {
   "cell_type": "markdown",
   "id": "moderate-ticket",
   "metadata": {},
   "source": [
    "Pregunta:\n",
    "\n",
    "- ¿Sabrías cómo se ha cifrado este archivo?\n",
    "- ¿Puedes crear un código para descifrarlo?"
   ]
  },
  {
   "cell_type": "markdown",
   "id": "nuclear-buying",
   "metadata": {},
   "source": [
    "Pistas:\n",
    "\n",
    "- XOR rotativo:https://en.wikipedia.org/wiki/XOR_cipher\n",
    "- https://www.mikrocontroller.net/topic/503014\n",
    "- Recomendación: utiliza la librería de Python PyCryptodome, porque la usaremos en el resto del curso: https://pycryptodome.readthedocs.io/en/latest/"
   ]
  },
  {
   "cell_type": "markdown",
   "id": "loose-shanghai",
   "metadata": {},
   "source": [
    "Desde línea de comandos:\n",
    "    \n",
    "```\n",
    "# pip install xortool & hash xortool-xor\n",
    "file test.mp3\n",
    "hexdump -C -n 32 test.mp3 \n",
    "hexdump -C 01.enc | less \n",
    "cat 01.enc |  xortool-xor -r \"secret\" -f - > 01.mp3\n",
    "```"
   ]
  }
 ],
 "metadata": {
  "kernelspec": {
   "display_name": "Python 3",
   "language": "python",
   "name": "python3"
  },
  "language_info": {
   "codemirror_mode": {
    "name": "ipython",
    "version": 3
   },
   "file_extension": ".py",
   "mimetype": "text/x-python",
   "name": "python",
   "nbconvert_exporter": "python",
   "pygments_lexer": "ipython3",
   "version": "3.8.2"
  }
 },
 "nbformat": 4,
 "nbformat_minor": 5
}
