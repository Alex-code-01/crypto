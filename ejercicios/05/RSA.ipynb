{
 "cells": [
  {
   "cell_type": "code",
   "execution_count": 1,
   "id": "appreciated-residence",
   "metadata": {},
   "outputs": [],
   "source": [
    "import random"
   ]
  },
  {
   "cell_type": "markdown",
   "id": "horizontal-public",
   "metadata": {},
   "source": [
    "# Algoritmos de Euclides"
   ]
  },
  {
   "cell_type": "markdown",
   "id": "modern-baseline",
   "metadata": {},
   "source": [
    "Algoritmo de Euclides para determinar el máximo común divisor (gcd) de dos enteros a yb"
   ]
  },
  {
   "cell_type": "code",
   "execution_count": 2,
   "id": "outer-parish",
   "metadata": {},
   "outputs": [
    {
     "name": "stdout",
     "output_type": "stream",
     "text": [
      "gcd(2, 3) =  1\n",
      "gcd(20, 30) =  10\n",
      "gcd(50720, 48184) =  2536\n"
     ]
    }
   ],
   "source": [
    "def gcd(a, b):\n",
    "    while b != 0:\n",
    "        a, b = b, a % b\n",
    "    return a\n",
    "\n",
    "print('gcd(2, 3) = ', gcd(2, 3))\n",
    "print('gcd(20, 30) = ', gcd(20, 30))\n",
    "print('gcd(50720, 48184) = ', gcd(50720, 48184))\n"
   ]
  },
  {
   "cell_type": "markdown",
   "id": "multiple-triangle",
   "metadata": {},
   "source": [
    "Algoritmo generalizado de Euclides para encontrar el inverso multiplicativos de un número en un anillo cíclico $\\mathbb{Z}_{\\phi}$"
   ]
  },
  {
   "cell_type": "code",
   "execution_count": 4,
   "id": "bright-episode",
   "metadata": {},
   "outputs": [
    {
     "name": "stdout",
     "output_type": "stream",
     "text": [
      "3^{-1} mod 10 =  7\n",
      "2^{-1} mod 10 =  None\n",
      "25^{-1} mod 119 =  100\n"
     ]
    }
   ],
   "source": [
    "def multiplicative_inverse(e, phi):\n",
    "    d = 0\n",
    "    x1 = 0\n",
    "    x2 = 1\n",
    "    y1 = 1\n",
    "    temp_phi = phi\n",
    "    \n",
    "    while e > 0:\n",
    "        temp1 = temp_phi // e\n",
    "        temp2 = temp_phi - temp1 * e\n",
    "        temp_phi = e\n",
    "        e = temp2\n",
    "        \n",
    "        x = x2 - temp1 * x1\n",
    "        y = d - temp1 * y1\n",
    "        \n",
    "        x2 = x1\n",
    "        x1 = x\n",
    "        d = y1\n",
    "        y1 = y\n",
    "\n",
    "    if temp_phi == 1:\n",
    "        return d + phi\n",
    "    # no inverse: return None\n",
    "    return None\n",
    "\n",
    "print('3^{-1} mod 10 = ', multiplicative_inverse(3, 10))\n",
    "print('2^{-1} mod 10 = ', multiplicative_inverse(2, 10))\n",
    "print('25^{-1} mod 119 = ', multiplicative_inverse(25, 119))"
   ]
  },
  {
   "cell_type": "code",
   "execution_count": 5,
   "id": "least-eligibility",
   "metadata": {},
   "outputs": [
    {
     "name": "stdout",
     "output_type": "stream",
     "text": [
      "2:  True\n",
      "5:  True\n",
      "19:  True\n",
      "25:  False\n",
      "222:  False\n",
      "314:  False\n",
      "317:  True\n"
     ]
    }
   ],
   "source": [
    "def is_prime(num):\n",
    "    if num == 2:\n",
    "        return True\n",
    "    if num < 2 or num % 2 == 0:\n",
    "        return False\n",
    "    for n in range(3, int(num**0.5)+2, 2):\n",
    "        if num % n == 0:\n",
    "            return False\n",
    "    return True\n",
    "\n",
    "for i in [2, 5, 19, 25, 222, 314, 317]:\n",
    "    print(f'{i}: ', is_prime(i))"
   ]
  },
  {
   "cell_type": "markdown",
   "id": "fifty-deadline",
   "metadata": {},
   "source": [
    "# RSA\n",
    "\n",
    "RSA son unas pocas funciones sencillas:\n",
    "\n",
    "- Generación de claves\n",
    "- Cifrado y descifrado son iguals (y simplemente es una potencia)"
   ]
  },
  {
   "cell_type": "code",
   "execution_count": 6,
   "id": "ranging-portable",
   "metadata": {},
   "outputs": [],
   "source": [
    "def generate_keypair(p, q):\n",
    "    if not (is_prime(p) and is_prime(q)):\n",
    "        raise ValueError('Both numbers must be prime.')\n",
    "    elif p == q:\n",
    "        raise ValueError('p and q cannot be equal')\n",
    "    #n = pq\n",
    "    n = p * q\n",
    "\n",
    "    #Phi is the totient of n\n",
    "    phi = (p - 1) * (q - 1)\n",
    "\n",
    "    # Choose an integer e such that e and phi(n) are coprime\n",
    "    e = random.randrange(1, phi)\n",
    "\n",
    "    # Use Euclid's Algorithm to verify that e and phi(n) are coprime\n",
    "    g = gcd(e, phi)\n",
    "    while g != 1:\n",
    "        e = random.randrange(1, phi)\n",
    "        g = gcd(e, phi)\n",
    "\n",
    "    #Use Extended Euclid's Algorithm to generate the private key\n",
    "    d = multiplicative_inverse(e, phi)\n",
    "    \n",
    "    #Return public and private keypair\n",
    "    #Public key is (e, n) and private key is (d, n)\n",
    "    return ((e, n), (d, n))\n",
    "\n",
    "def encrypt(pk, number):\n",
    "    # Unpack the key into it's components\n",
    "    key, n = pk\n",
    "    return (number ** key) % n\n",
    "\n",
    "decrypt = encrypt"
   ]
  },
  {
   "cell_type": "code",
   "execution_count": 8,
   "id": "electoral-hypothetical",
   "metadata": {},
   "outputs": [
    {
     "name": "stdout",
     "output_type": "stream",
     "text": [
      "Publickey (e, n): (179, 391) Private-key (d, n): (411, 391)\n"
     ]
    }
   ],
   "source": [
    "pk, sk = generate_keypair(17, 23)\n",
    "print(f'Publickey (e, n): {pk} Private-key (d, n): {sk}')"
   ]
  },
  {
   "cell_type": "markdown",
   "id": "backed-burns",
   "metadata": {},
   "source": [
    "Fíjate: si generamos otro par de claves, aunque usemos los mismos primos, obtendremos unas claves diferentes. Eso es porque el parámetro $e$ se escoge al azar"
   ]
  },
  {
   "cell_type": "code",
   "execution_count": 15,
   "id": "dressed-chaos",
   "metadata": {},
   "outputs": [
    {
     "name": "stdout",
     "output_type": "stream",
     "text": [
      "Publickey: (335, 391) Private-key: (207, 391)\n"
     ]
    }
   ],
   "source": [
    "pk, sk = generate_keypair(17, 23)\n",
    "print(f'Publickey: {pk} Private-key: {sk}')"
   ]
  },
  {
   "cell_type": "markdown",
   "id": "fabulous-strap",
   "metadata": {},
   "source": [
    "Vamos a intentar cifrar un texto sencillo:"
   ]
  },
  {
   "cell_type": "code",
   "execution_count": 17,
   "id": "centered-miracle",
   "metadata": {},
   "outputs": [
    {
     "ename": "TypeError",
     "evalue": "unsupported operand type(s) for ** or pow(): 'str' and 'int'",
     "output_type": "error",
     "traceback": [
      "\u001b[0;31m---------------------------------------------------------------------------\u001b[0m",
      "\u001b[0;31mTypeError\u001b[0m                                 Traceback (most recent call last)",
      "\u001b[0;32m<ipython-input-17-fe117617df1c>\u001b[0m in \u001b[0;36m<module>\u001b[0;34m\u001b[0m\n\u001b[0;32m----> 1\u001b[0;31m \u001b[0mprint\u001b[0m\u001b[0;34m(\u001b[0m\u001b[0mencrypt\u001b[0m\u001b[0;34m(\u001b[0m\u001b[0mpk\u001b[0m\u001b[0;34m,\u001b[0m \u001b[0;34m'hola'\u001b[0m\u001b[0;34m)\u001b[0m\u001b[0;34m)\u001b[0m\u001b[0;34m\u001b[0m\u001b[0;34m\u001b[0m\u001b[0m\n\u001b[0m",
      "\u001b[0;32m<ipython-input-6-f5e25dae0c25>\u001b[0m in \u001b[0;36mencrypt\u001b[0;34m(pk, number)\u001b[0m\n\u001b[1;32m     29\u001b[0m     \u001b[0;31m# Unpack the key into it's components\u001b[0m\u001b[0;34m\u001b[0m\u001b[0;34m\u001b[0m\u001b[0;34m\u001b[0m\u001b[0m\n\u001b[1;32m     30\u001b[0m     \u001b[0mkey\u001b[0m\u001b[0;34m,\u001b[0m \u001b[0mn\u001b[0m \u001b[0;34m=\u001b[0m \u001b[0mpk\u001b[0m\u001b[0;34m\u001b[0m\u001b[0;34m\u001b[0m\u001b[0m\n\u001b[0;32m---> 31\u001b[0;31m     \u001b[0;32mreturn\u001b[0m \u001b[0;34m(\u001b[0m\u001b[0mnumber\u001b[0m \u001b[0;34m**\u001b[0m \u001b[0mkey\u001b[0m\u001b[0;34m)\u001b[0m \u001b[0;34m%\u001b[0m \u001b[0mn\u001b[0m\u001b[0;34m\u001b[0m\u001b[0;34m\u001b[0m\u001b[0m\n\u001b[0m\u001b[1;32m     32\u001b[0m \u001b[0;34m\u001b[0m\u001b[0m\n\u001b[1;32m     33\u001b[0m \u001b[0mdecrypt\u001b[0m \u001b[0;34m=\u001b[0m \u001b[0mencrypt\u001b[0m\u001b[0;34m\u001b[0m\u001b[0;34m\u001b[0m\u001b[0m\n",
      "\u001b[0;31mTypeError\u001b[0m: unsupported operand type(s) for ** or pow(): 'str' and 'int'"
     ]
    }
   ],
   "source": [
    "print(encrypt(pk, 'hola'))"
   ]
  },
  {
   "cell_type": "markdown",
   "id": "described-tumor",
   "metadata": {},
   "source": [
    "No podemos: RSA solo puede cifrar enteros. Una posibilidad es codificar el mensaje como un conjunto de enteros"
   ]
  },
  {
   "cell_type": "code",
   "execution_count": 18,
   "id": "elegant-database",
   "metadata": {},
   "outputs": [
    {
     "name": "stdout",
     "output_type": "stream",
     "text": [
      "[179, 172, 190, 112]\n"
     ]
    }
   ],
   "source": [
    "print([encrypt(pk, ord(c)) for c in 'hola'])"
   ]
  },
  {
   "cell_type": "markdown",
   "id": "brave-thesis",
   "metadata": {},
   "source": [
    "¿Qué pasa si intentamos cifrar varias veces lo mismo?"
   ]
  },
  {
   "cell_type": "code",
   "execution_count": 19,
   "id": "electric-victorian",
   "metadata": {},
   "outputs": [
    {
     "name": "stdout",
     "output_type": "stream",
     "text": [
      "[112, 112, 112, 112]\n"
     ]
    }
   ],
   "source": [
    "print([encrypt(pk, ord(c)) for c in 'aaaa'])"
   ]
  },
  {
   "cell_type": "markdown",
   "id": "focused-hygiene",
   "metadata": {},
   "source": [
    "# (semi) Homorfismo\n",
    "\n",
    "RSA es semihomomórfico con la multiplicación: se pueden hacer cálculos con los números cifrados, aunque no sepas lo que son ni qué resultado tienes. Al descifrar, el resultado es correcto.\n",
    "\n",
    "Por ejemplo, vamos a multiplicar los mensajes cifrados c1 y c2, que son los cifrados de 5 y 2 respectivamente"
   ]
  },
  {
   "cell_type": "code",
   "execution_count": 20,
   "id": "german-disabled",
   "metadata": {},
   "outputs": [
    {
     "name": "stdout",
     "output_type": "stream",
     "text": [
      "encrypt(pk, 5) = 296\n",
      "decrypt(sk, 296) = 5\n"
     ]
    }
   ],
   "source": [
    "m1 = 5\n",
    "c1 = encrypt(pk, m1)\n",
    "print(f'encrypt(pk, {m1}) = {c1}')\n",
    "print(f'decrypt(sk, {c1}) = {decrypt(sk, c1)}')\n"
   ]
  },
  {
   "cell_type": "code",
   "execution_count": 22,
   "id": "continued-excitement",
   "metadata": {},
   "outputs": [
    {
     "name": "stdout",
     "output_type": "stream",
     "text": [
      "encrypt(pk, 2) = 9\n",
      "decrypt(sk, 9) = 2\n"
     ]
    }
   ],
   "source": [
    "m2 = 2\n",
    "c2 = encrypt(pk, m2)\n",
    "print(f'encrypt(pk, {m2}) = {c2}')\n",
    "print(f'decrypt(sk, {c2}) = {decrypt(sk, c2)}')"
   ]
  },
  {
   "cell_type": "code",
   "execution_count": 25,
   "id": "shaped-merchant",
   "metadata": {},
   "outputs": [
    {
     "name": "stdout",
     "output_type": "stream",
     "text": [
      "c1 = 296; c2 = 9; cm = 2664\n"
     ]
    }
   ],
   "source": [
    "cm = c1 * c2\n",
    "print(f\"c1 = {c1}; c2 = {c2}; cm = {cm}\")"
   ]
  },
  {
   "cell_type": "markdown",
   "id": "universal-hopkins",
   "metadata": {},
   "source": [
    "Un atacante no sabe cuánto vale c1 ni c2, ni sabe qué valor tiene cm, pero sabe que, sea lo que sea, ha multiplicado c1 y c2 y cuando se descifre el resultado va a ser correcto:"
   ]
  },
  {
   "cell_type": "code",
   "execution_count": 27,
   "id": "overhead-machinery",
   "metadata": {},
   "outputs": [
    {
     "name": "stdout",
     "output_type": "stream",
     "text": [
      "decrypt(sk, c1 * c2) = m1 * m2 = 5 * 2 = 10\n"
     ]
    }
   ],
   "source": [
    "print(f'decrypt(sk, c1 * c2) = m1 * m2 = {m1} * {m2} = {decrypt(sk, cm)}')"
   ]
  },
  {
   "cell_type": "markdown",
   "id": "convenient-month",
   "metadata": {},
   "source": [
    "# PyCryptoDome\n",
    "\n",
    "La función de arriba solo sirve para ver cómo funciona RSA a alto nivel. Veamos ahora cómo de grandes son los números involucrados en"
   ]
  },
  {
   "cell_type": "code",
   "execution_count": 32,
   "id": "assisted-operation",
   "metadata": {},
   "outputs": [
    {
     "data": {
      "text/plain": [
       "RsaKey(n=714602880075175520949526250160309177102900765541125103205886625271673086299358641856487046486129963207201770361825850335026769010485274232353049919425270634521451478783632791770873491327125023335176825104996789086870168164663102702099926247404005736390699371602305366657962764148629058932473782365610087178024628062417562891806922334810056424875268851807408131389988360877667890251734450176521369042284267890318419014224796168910269287161896544955146726714205022909541681196536971775203478605337859830830790184903060444102753318843173538858317097859802202651761100067122271134780202806469914720283269686612794650531766881831574938737224045910513957783281781816025218913112161987046758191668090177392634478729575903319414613455249342321229327444341407075718191105400855213567978074721398153647218852109822877991134839650128002847468627097853263788102763550957931681371516324120376515165450686014777864674908976798679097132129090865480998355206551501715650102739057070698418951049924290697024680449244630289440843149646521718325026367154756748692411838252022594015778144008444327261009073930411974610672038442273502359522123859362573522195187695555216862435380467049637141345270706097227495843217560136215485764661260736798192279126499, e=65537, d=5284712389588096329608267938889937712069099455761864290712926301910944288362642300071370195924098684729091322998686677689086175957833431160216542222176498276262215492273586316304021933613275879423567876175113962760523187977377416974906250228753347171379408508729175901250071761356722928461870798478198405770011897618928424374461576792823504492468076102191491946234153107995631538550853668190803518559395585763375300703840851374518880141667544422055649687161217344454143483628915762399590347906074676361078316721084018115595787242819447159619721481952446214380989057059858208492761925225990692297439482655268542563097237339513436104144973695265215826179511881948046346615464590006484244597684323265013838721705112953250392529360564934496367820841096470868728886285700580982908343294025117860172712733915215216413533344581428917167576125797684107827129722476379234923270983716521482636159092537241755811605673134698231078265052645351953497003307792849325861205040179564046501754125843554968012230941055539411267166368992540929937841835546615991364746118030839069571489864128755450117723718648132181266326375730026443727115541291872898408690899167540053470815369048795332389279432969671612365885733632323872766901928773813987035141169, p=24220102441496706012557572258809698759512210644051324072734944544883121859580172863613945423896484765378789450504343863227946348148664858760877160849437291820037800296323987406366082484205989844172187101260685301847311464522472518302477560058523084662848876975049476487461661514962134221900779929222406453971529632897243535442494935961533521024852224082217332371162890347088399809715632355740652364896254004045041434194291561809682722550688917958513392511730388205843153631303253012817709118328571586928187523105214608844430359210004338381741259067358823975188100663019984591444375000253583631955243549028185188668343, q=29504535821072105456726852842941206269167389640218308150081440187656490306919577116616238317258536262761459774958181170336062235540184972134992719298407655151934577463882661697237072701404798109630324893090618210522065516956327635687629962148791156888013128377097862214525927636240178956720025833587426215454489942836210803727365740514221879249174073392854468485889167072208734052491947961768520326033629155286856307700041722867451193409613386987443435350758823647259608024605340379866918692131843339559607801913189429835539746091280300566376124039569172673646157291081390984125334252310630761760268805141530497514293, u=25779237333390124703469302874612442519497566246198218306574179968537069180286560603811884433826298697467186495359186498821099310568393842211487771597318758635463972120633168314545617213205249472757029260460498556254076047832104715118279933059256013641235325028471667503798415850930685096036054490201224747938681420161061704543912604262455993844801426710338041046395935202457010977923777272983706918606795873155052556163374008870813674328136192079401607303550199217252080094814590921517680513287409266333417898493277790122448018937012746520584116806055805614418846214246584949914889578598965733443215897765919576202531)"
      ]
     },
     "execution_count": 32,
     "metadata": {},
     "output_type": "execute_result"
    }
   ],
   "source": [
    "from Crypto.PublicKey import RSA\n",
    "key = RSA.generate(4096)\n",
    "key"
   ]
  },
  {
   "cell_type": "markdown",
   "id": "noble-glass",
   "metadata": {},
   "source": [
    "# Ejercicios\n",
    "\n",
    "Hemos visto cómo crear claves con PyCryptoDrome, pero... \n",
    "\n",
    "- ¿Puedes cifrar algo con PyCryptoDrome usando RSA?\n",
    "- ¿Y un mensaje más largo?\n",
    "- ¿Cómo se firma?"
   ]
  },
  {
   "cell_type": "code",
   "execution_count": null,
   "id": "basic-spirituality",
   "metadata": {},
   "outputs": [],
   "source": []
  }
 ],
 "metadata": {
  "kernelspec": {
   "display_name": "Python 3",
   "language": "python",
   "name": "python3"
  },
  "language_info": {
   "codemirror_mode": {
    "name": "ipython",
    "version": 3
   },
   "file_extension": ".py",
   "mimetype": "text/x-python",
   "name": "python",
   "nbconvert_exporter": "python",
   "pygments_lexer": "ipython3",
   "version": "3.8.2"
  }
 },
 "nbformat": 4,
 "nbformat_minor": 5
}
